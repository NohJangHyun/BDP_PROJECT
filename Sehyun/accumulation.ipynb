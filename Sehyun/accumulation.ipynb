{
 "cells": [
  {
   "cell_type": "code",
   "execution_count": 2,
   "id": "5376acb7",
   "metadata": {},
   "outputs": [],
   "source": [
    "import pandas as pd\n",
    "import numpy as np"
   ]
  },
  {
   "cell_type": "code",
   "execution_count": 38,
   "id": "319a09fe",
   "metadata": {},
   "outputs": [
    {
     "name": "stdout",
     "output_type": "stream",
     "text": [
      "          ID  Time  Distance  Count  Fault\n",
      "0  SPB-00025   376     63280     22      0\n",
      "1  SPB-00036   759     91570     38      0\n",
      "2  SPB-00040  1089    161660     54      0\n",
      "3  SPB-00043   905    120840     61      0\n",
      "4  SPB-00050  1629    212324     84      0\n",
      "[0 1]\n",
      "[0 1]\n",
      "Complete\n",
      "          ID  Time  Distance  Count  Fault\n",
      "0  SPB-00004   639     68280     15      1\n",
      "1  SPB-00025   347     27840     12      0\n",
      "2  SPB-00036   804    124660     36      0\n",
      "3  SPB-00040   443     68730     25      0\n",
      "4  SPB-00043   451     64040     19      1\n",
      "[1 0]\n",
      "[0. 1. 2.]\n",
      "Complete\n"
     ]
    }
   ],
   "source": [
    "year = [2020]\n",
    "month = [1,2]\n",
    "\n",
    "#비어있는 데이터 프레임 만들기.\n",
    "df = pd.DataFrame(columns = {'ID','Time','Distance','Count','Fault'})\n",
    "df['Fault']=df['Fault'].fillna(0)\n",
    "df\n",
    "\n",
    "#모델만들기\n",
    "\n",
    "\n",
    "for y in year:\n",
    "    for m in month:\n",
    "        user = pd.read_csv(f'C:/data/data{y}/data{y}_user/{y}_{m}.csv',index_col = 0)\n",
    "        fault = pd.read_csv(f'C:/data/data{y}/data{y}_error/{y}_{m}.csv',index_col = 0)\n",
    "        data = pd.merge(user,fault,on=\"ID\", how=\"left\")\n",
    "        data[\"Count_y\"] = data[\"Count_y\"].fillna(0)\n",
    "        data[\"Count_y\"] = data[\"Count_y\"].astype(int)\n",
    "        data.columns = ['ID','Time','Distance','Count','Fault']\n",
    "        data['Fault'] = np.where(data['Fault']>0,1,0)\n",
    "        \n",
    "        print(data.head())\n",
    "        print(data['Fault'].unique())\n",
    "        \n",
    "        tmp = pd.merge(df,data,how='outer',on='ID')\n",
    "        tmp = tmp.fillna(0)\n",
    "        \n",
    "        df['ID'] = tmp['ID']\n",
    "        df['Time'] = tmp['Time_x'] + tmp['Time_y']\n",
    "        df['Distance'] = tmp['Distance_x'] + tmp['Distance_y']\n",
    "        df['Count'] = tmp['Count_x'] + tmp['Count_y']\n",
    "        df['Fault'] = tmp['Fault_x'] + tmp['Fault_y']\n",
    "        \n",
    "        #데이터 학습\n",
    "    \n",
    "\n",
    "#         if df['Fault']==1:\n",
    "#             valid_idx = df[df['Fault']==1].index\n",
    "#             df.drop(valid_idx,axis=0,inplace=True)\n",
    "        \n",
    "        print(df['Fault'].unique())\n",
    "        print(\"Complete\")\n",
    "\n",
    "# tmp = pd.merge(data,new_data,how='outer',on='ID')\n",
    "# df['ID'] = tmp['ID']\n",
    "# df['Time'] = tmp['Time_x'] + tmp['Time_y']\n",
    "# df['Distance'] = tmp['Distance_x'] + tmp['Distance_y']\n",
    "# df['Count'] = tmp['Count_x'] + tmp['Count_y']\n",
    "# df"
   ]
  },
  {
   "cell_type": "code",
   "execution_count": null,
   "id": "6bb00f03",
   "metadata": {},
   "outputs": [],
   "source": []
  }
 ],
 "metadata": {
  "kernelspec": {
   "display_name": "Python 3 (ipykernel)",
   "language": "python",
   "name": "python3"
  },
  "language_info": {
   "codemirror_mode": {
    "name": "ipython",
    "version": 3
   },
   "file_extension": ".py",
   "mimetype": "text/x-python",
   "name": "python",
   "nbconvert_exporter": "python",
   "pygments_lexer": "ipython3",
   "version": "3.8.0"
  }
 },
 "nbformat": 4,
 "nbformat_minor": 5
}
