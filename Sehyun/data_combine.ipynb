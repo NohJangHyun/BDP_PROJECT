{
 "cells": [
  {
   "cell_type": "code",
   "execution_count": 1,
   "id": "5afb2cff",
   "metadata": {},
   "outputs": [],
   "source": [
    "import pandas as pd\n"
   ]
  },
  {
   "cell_type": "code",
   "execution_count": 2,
   "id": "15079cd1",
   "metadata": {},
   "outputs": [
    {
     "data": {
      "text/html": [
       "<div>\n",
       "<style scoped>\n",
       "    .dataframe tbody tr th:only-of-type {\n",
       "        vertical-align: middle;\n",
       "    }\n",
       "\n",
       "    .dataframe tbody tr th {\n",
       "        vertical-align: top;\n",
       "    }\n",
       "\n",
       "    .dataframe thead th {\n",
       "        text-align: right;\n",
       "    }\n",
       "</style>\n",
       "<table border=\"1\" class=\"dataframe\">\n",
       "  <thead>\n",
       "    <tr style=\"text-align: right;\">\n",
       "      <th></th>\n",
       "      <th>Unnamed: 0</th>\n",
       "      <th>자전거번호</th>\n",
       "      <th>대여일시</th>\n",
       "      <th>대여소번호</th>\n",
       "      <th>대여대여소명</th>\n",
       "      <th>대여거치대</th>\n",
       "      <th>반납일시</th>\n",
       "      <th>반납대여소번호</th>\n",
       "      <th>반납대여소명</th>\n",
       "      <th>반납거치대</th>\n",
       "      <th>이용시간</th>\n",
       "      <th>이용거리</th>\n",
       "    </tr>\n",
       "  </thead>\n",
       "  <tbody>\n",
       "    <tr>\n",
       "      <th>0</th>\n",
       "      <td>0.0</td>\n",
       "      <td>SPB-10632</td>\n",
       "      <td>2019-01-01 00:00:44</td>\n",
       "      <td>1421</td>\n",
       "      <td>신내역 4번출구</td>\n",
       "      <td>3</td>\n",
       "      <td>2019-01-01 00:03:53</td>\n",
       "      <td>1420</td>\n",
       "      <td>신내어울공원 앞</td>\n",
       "      <td>13</td>\n",
       "      <td>2</td>\n",
       "      <td>580.0</td>\n",
       "    </tr>\n",
       "    <tr>\n",
       "      <th>1</th>\n",
       "      <td>1.0</td>\n",
       "      <td>SPB-10957</td>\n",
       "      <td>2019-01-01 00:02:16</td>\n",
       "      <td>1408</td>\n",
       "      <td>먹골역 6번출구 앞</td>\n",
       "      <td>3</td>\n",
       "      <td>2019-01-01 00:07:07</td>\n",
       "      <td>1433</td>\n",
       "      <td>중화역 2번출구</td>\n",
       "      <td>4</td>\n",
       "      <td>4</td>\n",
       "      <td>1020.0</td>\n",
       "    </tr>\n",
       "    <tr>\n",
       "      <th>2</th>\n",
       "      <td>2.0</td>\n",
       "      <td>SPB-16067</td>\n",
       "      <td>2019-01-01 00:04:12</td>\n",
       "      <td>347</td>\n",
       "      <td>동대문역사문화공원역 9번출구 앞</td>\n",
       "      <td>17</td>\n",
       "      <td>2019-01-01 00:07:07</td>\n",
       "      <td>387</td>\n",
       "      <td>훈련원공원주차장 앞</td>\n",
       "      <td>1</td>\n",
       "      <td>2</td>\n",
       "      <td>550.0</td>\n",
       "    </tr>\n",
       "    <tr>\n",
       "      <th>3</th>\n",
       "      <td>3.0</td>\n",
       "      <td>SPB-17170</td>\n",
       "      <td>2019-01-01 00:03:09</td>\n",
       "      <td>615</td>\n",
       "      <td>용두동 래미안허브리츠아파트 앞</td>\n",
       "      <td>4</td>\n",
       "      <td>2019-01-01 00:07:27</td>\n",
       "      <td>612</td>\n",
       "      <td>시립동부병원 앞 사거리</td>\n",
       "      <td>14</td>\n",
       "      <td>3</td>\n",
       "      <td>700.0</td>\n",
       "    </tr>\n",
       "    <tr>\n",
       "      <th>4</th>\n",
       "      <td>4.0</td>\n",
       "      <td>SPB-14130</td>\n",
       "      <td>2019-01-01 00:01:44</td>\n",
       "      <td>1177</td>\n",
       "      <td>수명중?고교</td>\n",
       "      <td>7</td>\n",
       "      <td>2019-01-01 00:08:09</td>\n",
       "      <td>1152</td>\n",
       "      <td>마곡역교차로</td>\n",
       "      <td>1</td>\n",
       "      <td>5</td>\n",
       "      <td>1090.0</td>\n",
       "    </tr>\n",
       "  </tbody>\n",
       "</table>\n",
       "</div>"
      ],
      "text/plain": [
       "   Unnamed: 0      자전거번호                 대여일시  대여소번호             대여대여소명  \\\n",
       "0         0.0  SPB-10632  2019-01-01 00:00:44   1421           신내역 4번출구   \n",
       "1         1.0  SPB-10957  2019-01-01 00:02:16   1408         먹골역 6번출구 앞   \n",
       "2         2.0  SPB-16067  2019-01-01 00:04:12    347  동대문역사문화공원역 9번출구 앞   \n",
       "3         3.0  SPB-17170  2019-01-01 00:03:09    615   용두동 래미안허브리츠아파트 앞   \n",
       "4         4.0  SPB-14130  2019-01-01 00:01:44   1177             수명중?고교   \n",
       "\n",
       "   대여거치대                 반납일시  반납대여소번호        반납대여소명  반납거치대  이용시간    이용거리  \n",
       "0      3  2019-01-01 00:03:53     1420      신내어울공원 앞     13     2   580.0  \n",
       "1      3  2019-01-01 00:07:07     1433      중화역 2번출구      4     4  1020.0  \n",
       "2     17  2019-01-01 00:07:07      387    훈련원공원주차장 앞      1     2   550.0  \n",
       "3      4  2019-01-01 00:07:27      612  시립동부병원 앞 사거리     14     3   700.0  \n",
       "4      7  2019-01-01 00:08:09     1152        마곡역교차로      1     5  1090.0  "
      ]
     },
     "execution_count": 2,
     "metadata": {},
     "output_type": "execute_result"
    }
   ],
   "source": [
    "a = pd.read_csv(\"C:/data/BDP_PROJECT/2019/data2019.csv\")\n",
    "b = pd.read_csv(\"C:/data/BDP_PROJECT/2019/data2019_1.csv\")\n",
    "\n",
    "result = pd.concat([a,b])\n",
    "result.head()"
   ]
  },
  {
   "cell_type": "code",
   "execution_count": 3,
   "id": "a4cd0cf2",
   "metadata": {},
   "outputs": [],
   "source": [
    "result.to_csv(\"C:/data/BDP_PROJECT/2019/data2019_final.csv\")"
   ]
  },
  {
   "cell_type": "code",
   "execution_count": 4,
   "id": "91f1a80e",
   "metadata": {},
   "outputs": [
    {
     "name": "stderr",
     "output_type": "stream",
     "text": [
      "C:\\Users\\shjoo\\AppData\\Local\\Temp\\ipykernel_8792\\2967005572.py:1: DtypeWarning: Columns (5,7) have mixed types. Specify dtype option on import or set low_memory=False.\n",
      "  a = pd.read_csv(\"C:/data/BDP_PROJECT/2020/data2020.csv\")\n"
     ]
    }
   ],
   "source": [
    "a = pd.read_csv(\"C:/data/BDP_PROJECT/2020/data2020.csv\")\n",
    "b = pd.read_csv(\"C:/data/BDP_PROJECT/2020/data2020_1.csv\")\n",
    "\n",
    "result = pd.concat([a,b])\n",
    "result.to_csv(\"C:/data/BDP_PROJECT/2020/data2020_final.csv\")"
   ]
  },
  {
   "cell_type": "code",
   "execution_count": null,
   "id": "4c309cac",
   "metadata": {},
   "outputs": [],
   "source": []
  }
 ],
 "metadata": {
  "kernelspec": {
   "display_name": "Python 3 (ipykernel)",
   "language": "python",
   "name": "python3"
  },
  "language_info": {
   "codemirror_mode": {
    "name": "ipython",
    "version": 3
   },
   "file_extension": ".py",
   "mimetype": "text/x-python",
   "name": "python",
   "nbconvert_exporter": "python",
   "pygments_lexer": "ipython3",
   "version": "3.8.0"
  }
 },
 "nbformat": 4,
 "nbformat_minor": 5
}
